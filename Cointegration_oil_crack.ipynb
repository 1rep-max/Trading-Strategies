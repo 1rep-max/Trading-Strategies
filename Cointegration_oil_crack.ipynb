{
 "cells": [
  {
   "cell_type": "markdown",
   "metadata": {},
   "source": [
    "# Notebook Instructions\n",
    "<i>You can run the notebook document sequentially (one cell a time) by pressing <b> shift + enter</b>. While a cell is running, a [*] will display on the left. When it has been run, a number will display indicating the order in which it was run in the notebook [8].</i>\n",
    "\n",
    "<i>Enter edit mode by pressing <b>`Enter`</b> or using the mouse to click on a cell's editor area. Edit mode is indicated by a green cell border and a prompt showing in the editor area.</i>"
   ]
  },
  {
   "cell_type": "markdown",
   "metadata": {},
   "source": [
    "# Mean Reversion Strategy on Oil Crack"
   ]
  },
  {
   "cell_type": "code",
   "execution_count": null,
   "metadata": {},
   "outputs": [],
   "source": [
    "import numpy as np\n",
    "import pandas as pd  \n",
    "import matplotlib.pyplot as plt  \n",
    "import yfinance\n",
    "%matplotlib inline\n",
    "\n",
    "plt.style.use('seaborn-darkgrid')\n",
    "tickers = ['BZ=F','CL=F','RB=F','NG=F','HO=F','HE=F']\n",
    "data = yfinance.download(tickers, period='7y', interval='1d')\n",
    "close_price = data['Close']\n",
    "df = pd.DataFrame(close_price)\n",
    "df.dropna(inplace=True)\n",
    "df = df.drop('20-04-2020')\n",
    "df.to_csv('yFinance.csv')"
   ]
  },
  {
   "cell_type": "code",
   "execution_count": null,
   "metadata": {},
   "outputs": [],
   "source": [
    "import yfinance\n",
    "tickers = ['BZ=F','CL=F','RB=F','NG=F','HO=F','HE=F']\n",
    "data = yfinance.download(tickers, period='7y', interval='1d')\n",
    "close_price = data['Close']\n",
    "df = pd.DataFrame(close_price)\n",
    "df.dropna(inplace=True)\n",
    "df = df.drop('20-04-2020')\n",
    "df.to_csv('yFinance.csv')"
   ]
  },
  {
   "cell_type": "markdown",
   "metadata": {},
   "source": [
    "## OOP Method: Prepare the data and backtest using OLS"
   ]
  },
  {
   "cell_type": "code",
   "execution_count": null,
   "metadata": {},
   "outputs": [],
   "source": [
    "class FinancialData:\n",
    "    url = \"yFinance.csv\"\n",
    "    def __init__(self,y_symbol, x_symbol):\n",
    "        self.y_symbol = y_symbol\n",
    "        self.x_symbol = x_symbol\n",
    "        self.retrieve_data()\n",
    "        self.model_fit()\n",
    "\n",
    "    def retrieve_data(self):\n",
    "        self.y = pd.read_csv(self.url, index_col=0)[self.y_symbol] * 42 #5.7 for Natty, 32 for HO and RB\n",
    "        self.x = pd.read_csv(self.url, index_col=0)[self.x_symbol] \n",
    "        self.df = pd.concat([self.y, self.x],axis=1)\n",
    "        self.df.columns = [self.y_symbol, self.x_symbol]\n",
    "        self.df.index = pd.to_datetime(df.index)\n",
    "    \n",
    "    def model_fit(self):\n",
    "        # OLS(Y,X)\n",
    "        import statsmodels.api as sm\n",
    "        self.model = sm.OLS(self.df[self.y_symbol], self.df[self.x_symbol])\n",
    "        self.model = self.model.fit() \n",
    "        self.df['spread'] = self.df[self.y_symbol] - self.model.params[0] * self.df[self.x_symbol]\n",
    "        # Plot the spread\n",
    "        self.df.spread.plot(ylabel = \"Spread\", figsize=(10,8), color='g', \n",
    "                            title= \"Spread of %s minus %s. Slope is %.1f\" %(self.y_symbol,self.x_symbol,self.model.params[0]))\n",
    "        plt.show()     \n",
    "        'The hedge ratio is %.2f' % self.model.params[0]\n",
    "        \n",
    "        # To perform ADF Test for stationarity\n",
    "        from statsmodels.tsa.stattools import adfuller\n",
    "        # Compute ADF test statistics\n",
    "        self.adf = adfuller(self.df['spread'], maxlag = 1)\n",
    "        self.adf[0]\n",
    "        plt.figure(figsize=(10,7))\n",
    "        # scatter(X,Y)\n",
    "        plt.scatter(self.df[self.x_symbol], self.df[self.y_symbol], color='red')\n",
    "        plt.xlabel(self.x_symbol)\n",
    "        plt.ylabel(self.y_symbol)\n",
    "        plt.title(\"ADF result is %.2f\" %self.adf[0])\n",
    "        plt.show()\n",
    "        return self.model.params[0]\n",
    "\n",
    "    def plot_data(self, lookback_period):\n",
    "        self.lookback_period = lookback_period\n",
    "        self.df[[self.y_symbol,self.x_symbol]].iloc[self.lookback_period: ].plot(secondary_y='p', figsize=(10,8))\n",
    "    \n",
    "    def mean_reversion_strategy(self, lookback, std_dev):\n",
    "        # Moving Average\n",
    "        self.df['moving_average'] = self.df['spread'].rolling(lookback).mean()\n",
    "        # Moving Standard Deviation\n",
    "        self.df['moving_std_dev'] = self.df['spread'].rolling(lookback).std()\n",
    "        # Upper band and lower band\n",
    "        self.df['upper_band'] = self.df['moving_average'] + (std_dev * self.df['moving_std_dev'])\n",
    "        self.df['lower_band'] = self.df['moving_average'] - (std_dev * self.df['moving_std_dev'])\n",
    "        # Long positions\n",
    "        self.df['long_entry'] = self.df['spread'] < self.df['lower_band']\n",
    "        self.df['long_exit'] = self.df['spread'] >= self.df['moving_average']\n",
    "        self.df['positions_long'] = np.nan\n",
    "        self.df.loc[self.df['long_entry'], 'positions_long'] = 1 # Boolean way of using loc\n",
    "        self.df.loc[self.df['long_exit'], 'positions_long'] = 0 # Boolean way of using loc\n",
    "        self.df['positions_long'] = self.df['positions_long'].fillna(method='ffill')\n",
    "        # Short positions\n",
    "        self.df['short_entry'] = self.df['spread'] > self.df['upper_band']\n",
    "        self.df['short_exit'] = self.df['spread'] <= self.df['moving_average']\n",
    "        self.df['positions_short'] = np.nan\n",
    "        self.df.loc[self.df['short_entry'], 'positions_short'] = -1\n",
    "        self.df.loc[self.df['short_exit'], 'positions_short'] = 0\n",
    "        self.df['positions_short'] = self.df['positions_short'].fillna(method='ffill')\n",
    "        # Positions\n",
    "        self.df['positions'] = self.df['positions_long'] + self.df['positions_short']\n"
   ]
  },
  {
   "cell_type": "markdown",
   "metadata": {},
   "source": [
    "## Call using the OOP Method"
   ]
  },
  {
   "cell_type": "code",
   "execution_count": null,
   "metadata": {},
   "outputs": [],
   "source": [
    "y_symbol = 'RB=F'\n",
    "x_symbol = 'CL=F'\n",
    "\n",
    "fd = FinancialData(y_symbol, x_symbol) # Input two variables (y dependent, x independent)\n",
    "fd.plot_data(lookback_period = -300) # Adjust how much to plot so that chart won't be too small to read"
   ]
  },
  {
   "cell_type": "markdown",
   "metadata": {},
   "source": [
    "## Mean reversion strategy function"
   ]
  },
  {
   "cell_type": "code",
   "execution_count": null,
   "metadata": {},
   "outputs": [],
   "source": [
    "fd.mean_reversion_strategy(lookback=34, std_dev=2) ## Adjust this to find optimum results\n",
    "df2 = fd.df # Call complete dataset using fd.df\n",
    "df2.dropna(inplace=True)"
   ]
  },
  {
   "cell_type": "markdown",
   "metadata": {},
   "source": [
    "## Plot chart"
   ]
  },
  {
   "cell_type": "code",
   "execution_count": null,
   "metadata": {},
   "outputs": [],
   "source": [
    "chartlookbackperiod = -900\n",
    "df3 = df2[['spread','moving_average','upper_band','lower_band','positions']]\n",
    "df3.iloc[chartlookbackperiod:].plot(figsize=(12,8), secondary_y='positions')\n",
    "plt.xlabel('Date')\n",
    "plt.ylabel('+1(long) / -1(short)')\n",
    "plt.show()"
   ]
  },
  {
   "cell_type": "code",
   "execution_count": null,
   "metadata": {},
   "outputs": [],
   "source": [
    "df2['percentage_change'] = (df2.spread - df2.spread.shift(1))/(fd.model_fit()*df2[x_symbol] + df2[y_symbol])\n",
    "df2['strategy_returns'] = df2.positions.shift(1) * df2.percentage_change\n",
    "df2['cumulative_returns'] = (df2.strategy_returns+1).cumprod()\n",
    "\"The total strategy returns are %.2f pct\" % ((df2['cumulative_returns'].iloc[-1]-1)*100)"
   ]
  },
  {
   "cell_type": "code",
   "execution_count": null,
   "metadata": {},
   "outputs": [],
   "source": [
    "s = np.mean(df2['strategy_returns'])/np.std(df2['strategy_returns'])*(252**0.5)\n",
    "'The Sharpe Ratio %.2f' % s"
   ]
  },
  {
   "cell_type": "code",
   "execution_count": null,
   "metadata": {},
   "outputs": [],
   "source": [
    "df2.cumulative_returns.plot(label='Returns', figsize=(10,7),color='magenta')  \n",
    "plt.xlabel('Date')  \n",
    "plt.ylabel('Cumulative Returns')  \n",
    "plt.show()"
   ]
  },
  {
   "cell_type": "code",
   "execution_count": null,
   "metadata": {},
   "outputs": [],
   "source": [
    "def calc_drawdown(cum_rets):\n",
    "    # Calculate the running maximum\n",
    "    running_max = np.maximum.accumulate(cum_rets.dropna())\n",
    "    # Ensure the value never drops below 1\n",
    "    running_max[running_max < 1] = 1\n",
    "    # Calculate the percentage drawdown\n",
    "    drawdown = (cum_rets)/running_max - 1\n",
    "    return drawdown\n",
    "\n",
    "def plot_drawdown(drawdown):\n",
    "    fig = plt.figure(figsize=(10, 7))\n",
    "    # Plot\n",
    "    drawdown.plot(color='r')\n",
    "    plt.ylabel('Returns')\n",
    "    plt.fill_between(drawdown.index, drawdown, color='red')\n",
    "    plt.grid(which=\"major\", color='k', linestyle='-.', linewidth=0.2)\n",
    "    plt.show()"
   ]
  },
  {
   "cell_type": "code",
   "execution_count": null,
   "metadata": {},
   "outputs": [],
   "source": [
    "drawdown = calc_drawdown(df2.cumulative_returns)\n",
    "print(\"The maximum drawdown is %.2f\" % (drawdown.min()*100))\n",
    "plot_drawdown(drawdown)"
   ]
  }
 ],
 "metadata": {
  "kernelspec": {
   "display_name": "Python 3",
   "language": "python",
   "name": "python3"
  },
  "language_info": {
   "codemirror_mode": {
    "name": "ipython",
    "version": 3
   },
   "file_extension": ".py",
   "mimetype": "text/x-python",
   "name": "python",
   "nbconvert_exporter": "python",
   "pygments_lexer": "ipython3",
   "version": "3.7.3"
  },
  "toc": {
   "base_numbering": 1,
   "nav_menu": {},
   "number_sections": true,
   "sideBar": true,
   "skip_h1_title": false,
   "title_cell": "Table of Contents",
   "title_sidebar": "Contents",
   "toc_cell": false,
   "toc_position": {},
   "toc_section_display": true,
   "toc_window_display": false
  },
  "varInspector": {
   "cols": {
    "lenName": 16,
    "lenType": 16,
    "lenVar": 40
   },
   "kernels_config": {
    "python": {
     "delete_cmd_postfix": "",
     "delete_cmd_prefix": "del ",
     "library": "var_list.py",
     "varRefreshCmd": "print(var_dic_list())"
    },
    "r": {
     "delete_cmd_postfix": ") ",
     "delete_cmd_prefix": "rm(",
     "library": "var_list.r",
     "varRefreshCmd": "cat(var_dic_list()) "
    }
   },
   "types_to_exclude": [
    "module",
    "function",
    "builtin_function_or_method",
    "instance",
    "_Feature"
   ],
   "window_display": false
  }
 },
 "nbformat": 4,
 "nbformat_minor": 4
}
